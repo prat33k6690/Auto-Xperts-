{
 "cells": [
  {
   "cell_type": "code",
   "execution_count": 1,
   "metadata": {},
   "outputs": [],
   "source": [
    "import pandas as pd \n",
    "import numpy as np "
   ]
  },
  {
   "cell_type": "code",
   "execution_count": 2,
   "metadata": {},
   "outputs": [
    {
     "data": {
      "text/html": [
       "<div>\n",
       "<style scoped>\n",
       "    .dataframe tbody tr th:only-of-type {\n",
       "        vertical-align: middle;\n",
       "    }\n",
       "\n",
       "    .dataframe tbody tr th {\n",
       "        vertical-align: top;\n",
       "    }\n",
       "\n",
       "    .dataframe thead th {\n",
       "        text-align: right;\n",
       "    }\n",
       "</style>\n",
       "<table border=\"1\" class=\"dataframe\">\n",
       "  <thead>\n",
       "    <tr style=\"text-align: right;\">\n",
       "      <th></th>\n",
       "      <th>name</th>\n",
       "      <th>company</th>\n",
       "      <th>year</th>\n",
       "      <th>Price</th>\n",
       "      <th>kms_driven</th>\n",
       "      <th>fuel_type</th>\n",
       "    </tr>\n",
       "  </thead>\n",
       "  <tbody>\n",
       "    <tr>\n",
       "      <th>0</th>\n",
       "      <td>Hyundai Santro Xing XO eRLX Euro III</td>\n",
       "      <td>Hyundai</td>\n",
       "      <td>2007</td>\n",
       "      <td>80,000</td>\n",
       "      <td>45,000 kms</td>\n",
       "      <td>Petrol</td>\n",
       "    </tr>\n",
       "    <tr>\n",
       "      <th>1</th>\n",
       "      <td>Mahindra Jeep CL550 MDI</td>\n",
       "      <td>Mahindra</td>\n",
       "      <td>2006</td>\n",
       "      <td>425,000</td>\n",
       "      <td>40 kms</td>\n",
       "      <td>Diesel</td>\n",
       "    </tr>\n",
       "    <tr>\n",
       "      <th>2</th>\n",
       "      <td>Maruti Suzuki Alto 800 Vxi</td>\n",
       "      <td>Maruti</td>\n",
       "      <td>2018</td>\n",
       "      <td>Ask For Price</td>\n",
       "      <td>22,000 kms</td>\n",
       "      <td>Petrol</td>\n",
       "    </tr>\n",
       "    <tr>\n",
       "      <th>3</th>\n",
       "      <td>Hyundai Grand i10 Magna 1.2 Kappa VTVT</td>\n",
       "      <td>Hyundai</td>\n",
       "      <td>2014</td>\n",
       "      <td>325,000</td>\n",
       "      <td>28,000 kms</td>\n",
       "      <td>Petrol</td>\n",
       "    </tr>\n",
       "    <tr>\n",
       "      <th>4</th>\n",
       "      <td>Ford EcoSport Titanium 1.5L TDCi</td>\n",
       "      <td>Ford</td>\n",
       "      <td>2014</td>\n",
       "      <td>575,000</td>\n",
       "      <td>36,000 kms</td>\n",
       "      <td>Diesel</td>\n",
       "    </tr>\n",
       "  </tbody>\n",
       "</table>\n",
       "</div>"
      ],
      "text/plain": [
       "                                     name   company  year          Price  \\\n",
       "0    Hyundai Santro Xing XO eRLX Euro III   Hyundai  2007         80,000   \n",
       "1                 Mahindra Jeep CL550 MDI  Mahindra  2006        425,000   \n",
       "2              Maruti Suzuki Alto 800 Vxi    Maruti  2018  Ask For Price   \n",
       "3  Hyundai Grand i10 Magna 1.2 Kappa VTVT   Hyundai  2014        325,000   \n",
       "4        Ford EcoSport Titanium 1.5L TDCi      Ford  2014        575,000   \n",
       "\n",
       "   kms_driven fuel_type  \n",
       "0  45,000 kms    Petrol  \n",
       "1      40 kms    Diesel  \n",
       "2  22,000 kms    Petrol  \n",
       "3  28,000 kms    Petrol  \n",
       "4  36,000 kms    Diesel  "
      ]
     },
     "execution_count": 2,
     "metadata": {},
     "output_type": "execute_result"
    }
   ],
   "source": [
    "df = pd.read_csv(\"car.csv\")\n",
    "df.head()"
   ]
  },
  {
   "cell_type": "code",
   "execution_count": 3,
   "metadata": {},
   "outputs": [
    {
     "data": {
      "text/plain": [
       "(892, 6)"
      ]
     },
     "execution_count": 3,
     "metadata": {},
     "output_type": "execute_result"
    }
   ],
   "source": [
    "df.shape"
   ]
  },
  {
   "cell_type": "code",
   "execution_count": 4,
   "metadata": {},
   "outputs": [
    {
     "data": {
      "text/plain": [
       "array(['2007', '2006', '2018', '2014', '2015', '2012', '2013', '2016',\n",
       "       '2010', '2017', '2008', '2011', '2019', '2009', '2005', '2000',\n",
       "       '2003', '...', 'r 15', '2004', 'Zest', '1995', '2002', '2001',\n",
       "       'sell', 'd Ex', 'n...', 'e...', 'D...', ', Ac', 'go .', 'd...',\n",
       "       'k...', 'o c4', 'zire', 'o...', 'cent'], dtype=object)"
      ]
     },
     "execution_count": 4,
     "metadata": {},
     "output_type": "execute_result"
    }
   ],
   "source": [
    "df['year'].unique()"
   ]
  },
  {
   "cell_type": "code",
   "execution_count": 5,
   "metadata": {},
   "outputs": [
    {
     "data": {
      "text/plain": [
       "array(['80,000', '425,000', 'Ask For Price', '325,000', '575,000',\n",
       "       '175,000', '190,000', '830,000', '250,000', '182,000', '315,000',\n",
       "       '415,000', '320,000', '1,000,000', '500,000', '350,000', '160,000',\n",
       "       '310,000', '75,000', '100,000', '290,000', '95,000', '180,000',\n",
       "       '385,000', '105,000', '650,000', '689,999', '448,000', '549,000',\n",
       "       '501,000', '489,999', '280,000', '349,999', '284,999', '345,000',\n",
       "       '499,999', '235,000', '249,999', '1,475,000', '395,000', '220,000',\n",
       "       '170,000', '85,000', '200,000', '570,000', '110,000', '448,999',\n",
       "       '1,891,111', '159,500', '344,999', '449,999', '865,000', '699,000',\n",
       "       '375,000', '224,999', '1,200,000', '195,000', '351,000', '240,000',\n",
       "       '90,000', '155,000', '600,000', '189,500', '210,000', '390,000',\n",
       "       '135,000', '1,600,000', '701,000', '265,000', '525,000', '372,000',\n",
       "       '635,000', '550,000', '485,000', '329,500', '251,111', '569,999',\n",
       "       '69,999', '299,999', '399,999', '450,000', '270,000', '158,400',\n",
       "       '179,000', '125,000', '299,000', '150,000', '275,000', '285,000',\n",
       "       '340,000', '70,000', '289,999', '849,999', '749,999', '274,999',\n",
       "       '984,999', '599,999', '244,999', '474,999', '245,000', '169,500',\n",
       "       '370,000', '168,000', '145,000', '98,500', '209,000', '185,000',\n",
       "       '900,000', '699,999', '199,999', '544,999', '199,000', '540,000',\n",
       "       '4,679,000', '49,000', '700,000', '55,000', '895,000', '355,000',\n",
       "       '565,000', '365,000', '40,000', '400,000', '330,000', '580,000',\n",
       "       '379,000', '219,000', '519,000', '730,000', '2,000,000',\n",
       "       '2,100,000', '1,400,000', '311,000', '855,000', '535,000',\n",
       "       '178,000', '300,000', '255,000', '549,999', '380,000', '57,000',\n",
       "       '410,000', '225,000', '120,000', '59,000', '599,000', '60,000',\n",
       "       '675,000', '72,500', '610,000', '230,000', '215,000', '520,000',\n",
       "       '524,999', '424,999', '644,999', '584,999', '799,999', '444,999',\n",
       "       '649,999', '944,999', '574,999', '374,999', '130,000', '401,000',\n",
       "       '1,350,000', '174,999', '239,999', '99,999', '324,999',\n",
       "       '1,074,999', '1,130,000', '149,000', '770,000', '689,000',\n",
       "       '30,000', '335,000', '399,000', '65,000', '169,999', '165,000',\n",
       "       '560,000', '950,000', '715,000', '45,000', '940,000', '155,555',\n",
       "       '1,500,000', '495,000', '21,500,000', '800,000', '1,299,000',\n",
       "       '530,000', '1,499,000', '490,000', '32,000', '405,000', '760,000',\n",
       "       '750,000', '419,000', '140,000', '1,540,000', '123,000', '498,000',\n",
       "       '480,000', '488,000', '1,525,000', '548,900', '725,000', '99,000',\n",
       "       '52,000', '2,800,000', '499,000', '381,000', '278,000', '690,000',\n",
       "       '260,000', '90,001', '115,000', '1,599,000', '159,000', '91,999',\n",
       "       '1,150,000', '269,000', '430,000', '8,500,003', '670,500',\n",
       "       '401,919', '424,000', '205,000', '549,900', '42,250,000',\n",
       "       '33,371,500', '435,000', '189,700', '389,700', '360,000',\n",
       "       '295,000', '9,255,000', '43,100,000', '114,990', '30,170,000',\n",
       "       '27,200,000', '60,000,000', '1,065,000', '470,000', '48,000',\n",
       "       '188,000', '465,000', '179,999', '2,190,000', '2,390,000',\n",
       "       '1,075,000', '475,000', '1,025,000', '615,000', '1,900,000',\n",
       "       '1,490,000', '1,510,000', '1,850,000', '790,000', '1,725,000',\n",
       "       '1,225,000', '68,000', '970,000', '3,100,000', '291,475,000',\n",
       "       '89,320,000', '23,370,000', '899,000', '88,000', '53,000',\n",
       "       '36,650,000', '568,500', '888,000', '9,999,000', '71,000',\n",
       "       '590,000', '795,000', '42,000', '189,000', '23,220,000',\n",
       "       '33,000,000', '11,110,000', '162,000', '35,999', '2,900,000',\n",
       "       '39,999', '7,170,000', '50,000,000', '50,500', '510,000',\n",
       "       '860,000', '500,001', '43,400,000', '64,450,000', '28,310,000'],\n",
       "      dtype=object)"
      ]
     },
     "execution_count": 5,
     "metadata": {},
     "output_type": "execute_result"
    }
   ],
   "source": [
    "df['Price'].unique()"
   ]
  },
  {
   "cell_type": "code",
   "execution_count": 6,
   "metadata": {},
   "outputs": [
    {
     "data": {
      "text/plain": [
       "array(['Petrol', 'Diesel', nan, 'LPG'], dtype=object)"
      ]
     },
     "execution_count": 6,
     "metadata": {},
     "output_type": "execute_result"
    }
   ],
   "source": [
    "df['fuel_type'].unique()"
   ]
  },
  {
   "cell_type": "code",
   "execution_count": 7,
   "metadata": {},
   "outputs": [
    {
     "data": {
      "text/plain": [
       "array(['45,000 kms', '40 kms', '22,000 kms', '28,000 kms', '36,000 kms',\n",
       "       '59,000 kms', '41,000 kms', '25,000 kms', '24,530 kms',\n",
       "       '60,000 kms', '30,000 kms', '32,000 kms', '48,660 kms',\n",
       "       '4,000 kms', '16,934 kms', '43,000 kms', '35,550 kms',\n",
       "       '39,522 kms', '39,000 kms', '55,000 kms', '72,000 kms',\n",
       "       '15,975 kms', '70,000 kms', '23,452 kms', '35,522 kms',\n",
       "       '48,508 kms', '15,487 kms', '82,000 kms', '20,000 kms',\n",
       "       '68,000 kms', '38,000 kms', '27,000 kms', '33,000 kms',\n",
       "       '46,000 kms', '16,000 kms', '47,000 kms', '35,000 kms',\n",
       "       '30,874 kms', '15,000 kms', '29,685 kms', '1,30,000 kms',\n",
       "       '19,000 kms', nan, '54,000 kms', '13,000 kms', '38,200 kms',\n",
       "       '50,000 kms', '13,500 kms', '3,600 kms', '45,863 kms',\n",
       "       '60,500 kms', '12,500 kms', '18,000 kms', '13,349 kms',\n",
       "       '29,000 kms', '44,000 kms', '42,000 kms', '14,000 kms',\n",
       "       '49,000 kms', '36,200 kms', '51,000 kms', '1,04,000 kms',\n",
       "       '33,333 kms', '33,600 kms', '5,600 kms', '7,500 kms', '26,000 kms',\n",
       "       '24,330 kms', '65,480 kms', '28,028 kms', '2,00,000 kms',\n",
       "       '99,000 kms', '2,800 kms', '21,000 kms', '11,000 kms',\n",
       "       '66,000 kms', '3,000 kms', '7,000 kms', '38,500 kms', '37,200 kms',\n",
       "       '43,200 kms', '24,800 kms', '45,872 kms', '40,000 kms',\n",
       "       '11,400 kms', '97,200 kms', '52,000 kms', '31,000 kms',\n",
       "       '1,75,430 kms', '10,000 kms', '37,000 kms', '65,000 kms',\n",
       "       '3,350 kms', '29,000kms', '75,000 kms', '62,000 kms', '73,000 kms',\n",
       "       '2,200 kms', '40,000kms', '54,870 kms', '34,580 kms', '97,000 kms',\n",
       "       '60 kms', '80,200 kms', '3,200 kms', '0,000 kms', '5,000 kms',\n",
       "       '588 kms', '71,200 kms', '1,75,400 kms', '9,300 kms', '56,758 kms',\n",
       "       '56,450 kms', '56,000 kms', '32,700 kms', '60,000kms', '9,000 kms',\n",
       "       '73 kms', '1,60,000 kms', '84,000 kms', '58,559 kms', '57,000 kms',\n",
       "       '1,70,000 kms', '80,000 kms', '6,821 kms', '23,000 kms',\n",
       "       '34,000 kms', '1,800 kms', '4,00,000 kms', '48,000 kms',\n",
       "       '90,000 kms', '12,000 kms', '69,900 kms', '1,66,000 kms',\n",
       "       '122 kms', '0 kms', '24,000 kms', '36,469 kms', '7,800 kms',\n",
       "       '24,695 kms', '15,141 kms', '59,910 kms', '1,00,000 kms',\n",
       "       '4,500 kms', '1,29,000 kms', '300 kms', '1,31,000 kms',\n",
       "       '1,11,111 kms', '34,000kms', '59,466 kms', '25,500 kms',\n",
       "       '44,005 kms', '2,110 kms', '43,222 kms', '1,00,200 kms', '65 kms',\n",
       "       '1,40,000 kms', '1,03,553 kms', '58,000 kms', '1,20,000 kms',\n",
       "       '49,800 kms', '100 kms', '81,876 kms', '6,020 kms', '55,700 kms',\n",
       "       '18,500 kms', '1,80,000 kms', '53,000 kms', '35,500 kms',\n",
       "       '22,134 kms', '1,000 kms', '8,500 kms', '87,000 kms', '6,000 kms',\n",
       "       '15,574 kms', '8,000 kms', '55,800 kms', '56,400 kms',\n",
       "       '72,160 kms', '11,500 kms', '1,33,000 kms', '2,000 kms',\n",
       "       '88,000 kms', '65,422 kms', '1,17,000 kms', '1,50,000 kms',\n",
       "       '10,750 kms', '6,800 kms', '5000 kms', '9,800 kms', '57,923 kms',\n",
       "       '30,201 kms', '6,200 kms', '37,518 kms', '24,652 kms', '383 kms',\n",
       "       '95,000 kms', '3,528 kms', '52,500 kms', '47,900 kms',\n",
       "       '52,800 kms', '1,95,000 kms', '48,008 kms', '48,247 kms',\n",
       "       '9,400 kms', '68,000 Kms', '64,000 kms', '2,137 kms', '30,000kms',\n",
       "       '10,544 kms', '49,500 kms', '1,47,000 kms', '90,001 kms',\n",
       "       '48,006 kms', '45,890 kms', '74,000 kms', '85,000 kms',\n",
       "       '29,500 kms', '39,700 kms', '67,000 kms', '19,336 kms',\n",
       "       '60,105 kms', '45,933 kms', '1,02,563 kms', '28,600 kms',\n",
       "       '41,800 kms', '1,16,000 kms', '42,590 kms', '7,400 kms',\n",
       "       '54,500 kms', '76,000 kms', '00 kms', '11,523 kms', '38,600 kms',\n",
       "       '95,500 kms', '37,458 kms', '85,960 kms', '12,516 kms',\n",
       "       '30,600 kms', '2,550 kms', '62,500 kms', '69,000 kms',\n",
       "       '28,400 kms', '68,485 kms', '3,500 kms', '1000 kms', '85,455 kms',\n",
       "       '63,000 kms', '1,600 kms', '77,000 kms', '26,500 kms', '2,875 kms',\n",
       "       '13,900 kms', '1,500 kms', '2,450 kms', '1,625 kms', '33,400 kms',\n",
       "       '60,123 kms', '38,900 kms', '1,37,495 kms', '91,200 kms',\n",
       "       '1,46,000 kms', '1,00,800 kms', '2,100 kms', '2,500 kms',\n",
       "       '1,32,000 kms'], dtype=object)"
      ]
     },
     "execution_count": 7,
     "metadata": {},
     "output_type": "execute_result"
    }
   ],
   "source": [
    "df['kms_driven'].unique()"
   ]
  },
  {
   "cell_type": "code",
   "execution_count": 8,
   "metadata": {},
   "outputs": [
    {
     "name": "stdout",
     "output_type": "stream",
     "text": [
      "<class 'pandas.core.frame.DataFrame'>\n",
      "RangeIndex: 892 entries, 0 to 891\n",
      "Data columns (total 6 columns):\n",
      " #   Column      Non-Null Count  Dtype \n",
      "---  ------      --------------  ----- \n",
      " 0   name        891 non-null    object\n",
      " 1   company     892 non-null    object\n",
      " 2   year        892 non-null    object\n",
      " 3   Price       892 non-null    object\n",
      " 4   kms_driven  874 non-null    object\n",
      " 5   fuel_type   873 non-null    object\n",
      "dtypes: object(6)\n",
      "memory usage: 41.9+ KB\n"
     ]
    }
   ],
   "source": [
    "df.info()"
   ]
  },
  {
   "cell_type": "code",
   "execution_count": 9,
   "metadata": {},
   "outputs": [],
   "source": [
    "df = df[df['year'].str.isnumeric()]"
   ]
  },
  {
   "cell_type": "code",
   "execution_count": 10,
   "metadata": {},
   "outputs": [],
   "source": [
    "df['year'] = df['year'].astype(int)"
   ]
  },
  {
   "cell_type": "code",
   "execution_count": 11,
   "metadata": {},
   "outputs": [
    {
     "data": {
      "text/plain": [
       "dtype('int32')"
      ]
     },
     "execution_count": 11,
     "metadata": {},
     "output_type": "execute_result"
    }
   ],
   "source": [
    "df['year'].dtype"
   ]
  },
  {
   "cell_type": "code",
   "execution_count": 12,
   "metadata": {},
   "outputs": [],
   "source": [
    "df = df[df['Price']!='Ask For Price']"
   ]
  },
  {
   "cell_type": "code",
   "execution_count": 13,
   "metadata": {},
   "outputs": [],
   "source": [
    "df['Price'] = df['Price'].str.replace(',','').astype(int)"
   ]
  },
  {
   "cell_type": "code",
   "execution_count": 14,
   "metadata": {},
   "outputs": [
    {
     "data": {
      "text/plain": [
       "array([    80000,    425000,    325000,    575000,    175000,    190000,\n",
       "          830000,    250000,    182000,    315000,    415000,    320000,\n",
       "         1000000,    500000,    350000,    160000,    310000,     75000,\n",
       "          100000,    290000,     95000,    180000,    385000,    105000,\n",
       "          650000,    689999,    448000,    549000,    501000,    489999,\n",
       "          280000,    349999,    284999,    345000,    499999,    235000,\n",
       "          249999,   1475000,    395000,    220000,    170000,     85000,\n",
       "          200000,    570000,    110000,    448999,   1891111,    159500,\n",
       "          344999,    449999,    865000,    699000,    375000,    224999,\n",
       "         1200000,    195000,    351000,    240000,     90000,    155000,\n",
       "          600000,    189500,    210000,    390000,    135000,   1600000,\n",
       "          701000,    265000,    525000,    372000,    635000,    550000,\n",
       "          485000,    329500,    251111,    569999,     69999,    299999,\n",
       "          399999,    450000,    270000,    158400,    179000,    125000,\n",
       "          299000,    150000,    275000,    285000,    340000,     70000,\n",
       "          289999,    849999,    749999,    274999,    984999,    599999,\n",
       "          244999,    474999,    245000,    169500,    370000,    168000,\n",
       "          145000,     98500,    209000,    185000,    900000,    699999,\n",
       "          199999,    544999,    199000,    540000,   4679000,     49000,\n",
       "          700000,     55000,    895000,    355000,    565000,    365000,\n",
       "           40000,    400000,    330000,    580000,    379000,    219000,\n",
       "          519000,    730000,   2000000,   2100000,   1400000,    311000,\n",
       "          855000,    535000,    178000,    300000,    255000,    549999,\n",
       "          380000,     57000,    410000,    225000,    120000,     59000,\n",
       "          599000,     60000,    675000,     72500,    610000,    230000,\n",
       "          215000,    520000,    524999,    424999,    644999,    584999,\n",
       "          799999,    444999,    649999,    944999,    574999,    374999,\n",
       "          130000,    401000,   1350000,    174999,    239999,     99999,\n",
       "          324999,   1074999,   1130000,    149000,    770000,    689000,\n",
       "           30000,    335000,    399000,     65000,    169999,    165000,\n",
       "          560000,    950000,    715000,     45000,    940000,    155555,\n",
       "         1500000,    495000,  21500000,    800000,   1299000,    530000,\n",
       "         1499000,    490000,     32000,    405000,    760000,    750000,\n",
       "          419000,    140000,   1540000,    123000,    498000,    480000,\n",
       "          488000,   1525000,    548900,    725000,     99000,     52000,\n",
       "         2800000,    499000,    381000,    278000,    690000,    260000,\n",
       "           90001,    115000,   1599000,    159000,     91999,   1150000,\n",
       "          269000,    430000,   8500003,    670500,    401919,    424000,\n",
       "          205000,    549900,  42250000,  33371500,    435000,    189700,\n",
       "          389700,    360000,    295000,   9255000,  43100000,    114990,\n",
       "        30170000,  27200000,  60000000,   1065000,    470000,     48000,\n",
       "          188000,    465000,    179999,   2190000,   2390000,   1075000,\n",
       "          475000,   1025000,    615000,   1900000,   1490000,   1510000,\n",
       "         1850000,    790000,   1725000,   1225000,     68000,    970000,\n",
       "         3100000, 291475000,  89320000,  23370000,    899000,     88000,\n",
       "           53000,  36650000,    568500,    888000,   9999000,     71000,\n",
       "          590000,    795000,     42000,    189000,  23220000,  33000000,\n",
       "        11110000,    162000,     35999,   2900000,     39999,   7170000,\n",
       "        50000000,     50500,    510000,    860000,    500001,  43400000,\n",
       "        64450000,  28310000])"
      ]
     },
     "execution_count": 14,
     "metadata": {},
     "output_type": "execute_result"
    }
   ],
   "source": [
    "df['Price'].unique()"
   ]
  },
  {
   "cell_type": "code",
   "execution_count": 15,
   "metadata": {},
   "outputs": [],
   "source": [
    "df['kms_driven'] = df['kms_driven'].str.split().str.get(0).str.replace(',','')"
   ]
  },
  {
   "cell_type": "code",
   "execution_count": 16,
   "metadata": {},
   "outputs": [],
   "source": [
    "df = df[df['kms_driven'].str.isnumeric()]"
   ]
  },
  {
   "cell_type": "code",
   "execution_count": 17,
   "metadata": {},
   "outputs": [],
   "source": [
    "df['kms_driven'] = df['kms_driven'].astype(int)"
   ]
  },
  {
   "cell_type": "code",
   "execution_count": 18,
   "metadata": {},
   "outputs": [
    {
     "data": {
      "text/plain": [
       "dtype('int32')"
      ]
     },
     "execution_count": 18,
     "metadata": {},
     "output_type": "execute_result"
    }
   ],
   "source": [
    "df['kms_driven'].dtype"
   ]
  },
  {
   "cell_type": "code",
   "execution_count": 19,
   "metadata": {},
   "outputs": [],
   "source": [
    "df = df[~df['fuel_type'].isna()]"
   ]
  },
  {
   "cell_type": "code",
   "execution_count": 20,
   "metadata": {},
   "outputs": [
    {
     "data": {
      "text/plain": [
       "(863, 6)"
      ]
     },
     "execution_count": 20,
     "metadata": {},
     "output_type": "execute_result"
    }
   ],
   "source": [
    "df.shape"
   ]
  },
  {
   "cell_type": "code",
   "execution_count": 21,
   "metadata": {},
   "outputs": [],
   "source": [
    "df['name'] = df['name'].str.split().str.slice(start=0, stop=3).str.join(' ')\n"
   ]
  },
  {
   "cell_type": "code",
   "execution_count": 22,
   "metadata": {},
   "outputs": [],
   "source": [
    "df = df.reset_index(drop=True)"
   ]
  },
  {
   "cell_type": "code",
   "execution_count": 23,
   "metadata": {},
   "outputs": [
    {
     "data": {
      "text/html": [
       "<div>\n",
       "<style scoped>\n",
       "    .dataframe tbody tr th:only-of-type {\n",
       "        vertical-align: middle;\n",
       "    }\n",
       "\n",
       "    .dataframe tbody tr th {\n",
       "        vertical-align: top;\n",
       "    }\n",
       "\n",
       "    .dataframe thead th {\n",
       "        text-align: right;\n",
       "    }\n",
       "</style>\n",
       "<table border=\"1\" class=\"dataframe\">\n",
       "  <thead>\n",
       "    <tr style=\"text-align: right;\">\n",
       "      <th></th>\n",
       "      <th>name</th>\n",
       "      <th>company</th>\n",
       "      <th>year</th>\n",
       "      <th>Price</th>\n",
       "      <th>kms_driven</th>\n",
       "      <th>fuel_type</th>\n",
       "    </tr>\n",
       "  </thead>\n",
       "  <tbody>\n",
       "    <tr>\n",
       "      <th>0</th>\n",
       "      <td>Hyundai Santro Xing</td>\n",
       "      <td>Hyundai</td>\n",
       "      <td>2007</td>\n",
       "      <td>80000</td>\n",
       "      <td>45000</td>\n",
       "      <td>Petrol</td>\n",
       "    </tr>\n",
       "    <tr>\n",
       "      <th>1</th>\n",
       "      <td>Mahindra Jeep CL550</td>\n",
       "      <td>Mahindra</td>\n",
       "      <td>2006</td>\n",
       "      <td>425000</td>\n",
       "      <td>40</td>\n",
       "      <td>Diesel</td>\n",
       "    </tr>\n",
       "    <tr>\n",
       "      <th>2</th>\n",
       "      <td>Hyundai Grand i10</td>\n",
       "      <td>Hyundai</td>\n",
       "      <td>2014</td>\n",
       "      <td>325000</td>\n",
       "      <td>28000</td>\n",
       "      <td>Petrol</td>\n",
       "    </tr>\n",
       "    <tr>\n",
       "      <th>3</th>\n",
       "      <td>Ford EcoSport Titanium</td>\n",
       "      <td>Ford</td>\n",
       "      <td>2014</td>\n",
       "      <td>575000</td>\n",
       "      <td>36000</td>\n",
       "      <td>Diesel</td>\n",
       "    </tr>\n",
       "    <tr>\n",
       "      <th>4</th>\n",
       "      <td>Ford Figo</td>\n",
       "      <td>Ford</td>\n",
       "      <td>2012</td>\n",
       "      <td>175000</td>\n",
       "      <td>41000</td>\n",
       "      <td>Diesel</td>\n",
       "    </tr>\n",
       "  </tbody>\n",
       "</table>\n",
       "</div>"
      ],
      "text/plain": [
       "                     name   company  year   Price  kms_driven fuel_type\n",
       "0     Hyundai Santro Xing   Hyundai  2007   80000       45000    Petrol\n",
       "1     Mahindra Jeep CL550  Mahindra  2006  425000          40    Diesel\n",
       "2       Hyundai Grand i10   Hyundai  2014  325000       28000    Petrol\n",
       "3  Ford EcoSport Titanium      Ford  2014  575000       36000    Diesel\n",
       "4               Ford Figo      Ford  2012  175000       41000    Diesel"
      ]
     },
     "execution_count": 23,
     "metadata": {},
     "output_type": "execute_result"
    }
   ],
   "source": [
    "df.head()"
   ]
  },
  {
   "cell_type": "code",
   "execution_count": 24,
   "metadata": {},
   "outputs": [
    {
     "data": {
      "text/html": [
       "<div>\n",
       "<style scoped>\n",
       "    .dataframe tbody tr th:only-of-type {\n",
       "        vertical-align: middle;\n",
       "    }\n",
       "\n",
       "    .dataframe tbody tr th {\n",
       "        vertical-align: top;\n",
       "    }\n",
       "\n",
       "    .dataframe thead th {\n",
       "        text-align: right;\n",
       "    }\n",
       "</style>\n",
       "<table border=\"1\" class=\"dataframe\">\n",
       "  <thead>\n",
       "    <tr style=\"text-align: right;\">\n",
       "      <th></th>\n",
       "      <th>name</th>\n",
       "      <th>company</th>\n",
       "      <th>year</th>\n",
       "      <th>Price</th>\n",
       "      <th>kms_driven</th>\n",
       "      <th>fuel_type</th>\n",
       "    </tr>\n",
       "  </thead>\n",
       "  <tbody>\n",
       "    <tr>\n",
       "      <th>858</th>\n",
       "      <td>Porsche Taycan</td>\n",
       "      <td>Porsche</td>\n",
       "      <td>2018</td>\n",
       "      <td>28310000</td>\n",
       "      <td>12000</td>\n",
       "      <td>Diesel</td>\n",
       "    </tr>\n",
       "    <tr>\n",
       "      <th>859</th>\n",
       "      <td>Tata Zest XM</td>\n",
       "      <td>Tata</td>\n",
       "      <td>2018</td>\n",
       "      <td>260000</td>\n",
       "      <td>27000</td>\n",
       "      <td>Diesel</td>\n",
       "    </tr>\n",
       "    <tr>\n",
       "      <th>860</th>\n",
       "      <td>Mahindra Quanto C8</td>\n",
       "      <td>Mahindra</td>\n",
       "      <td>2013</td>\n",
       "      <td>390000</td>\n",
       "      <td>40000</td>\n",
       "      <td>Diesel</td>\n",
       "    </tr>\n",
       "    <tr>\n",
       "      <th>861</th>\n",
       "      <td>Honda Amaze 1.2</td>\n",
       "      <td>Honda</td>\n",
       "      <td>2014</td>\n",
       "      <td>480000</td>\n",
       "      <td>30000</td>\n",
       "      <td>Petrol</td>\n",
       "    </tr>\n",
       "    <tr>\n",
       "      <th>862</th>\n",
       "      <td>Chevrolet Sail 1.2</td>\n",
       "      <td>Chevrolet</td>\n",
       "      <td>2014</td>\n",
       "      <td>360000</td>\n",
       "      <td>30000</td>\n",
       "      <td>Petrol</td>\n",
       "    </tr>\n",
       "  </tbody>\n",
       "</table>\n",
       "</div>"
      ],
      "text/plain": [
       "                   name    company  year     Price  kms_driven fuel_type\n",
       "858      Porsche Taycan    Porsche  2018  28310000       12000    Diesel\n",
       "859        Tata Zest XM       Tata  2018    260000       27000    Diesel\n",
       "860  Mahindra Quanto C8   Mahindra  2013    390000       40000    Diesel\n",
       "861     Honda Amaze 1.2      Honda  2014    480000       30000    Petrol\n",
       "862  Chevrolet Sail 1.2  Chevrolet  2014    360000       30000    Petrol"
      ]
     },
     "execution_count": 24,
     "metadata": {},
     "output_type": "execute_result"
    }
   ],
   "source": [
    "df.tail()"
   ]
  },
  {
   "cell_type": "code",
   "execution_count": 25,
   "metadata": {},
   "outputs": [
    {
     "name": "stdout",
     "output_type": "stream",
     "text": [
      "<class 'pandas.core.frame.DataFrame'>\n",
      "RangeIndex: 863 entries, 0 to 862\n",
      "Data columns (total 6 columns):\n",
      " #   Column      Non-Null Count  Dtype \n",
      "---  ------      --------------  ----- \n",
      " 0   name        863 non-null    object\n",
      " 1   company     863 non-null    object\n",
      " 2   year        863 non-null    int32 \n",
      " 3   Price       863 non-null    int32 \n",
      " 4   kms_driven  863 non-null    int32 \n",
      " 5   fuel_type   863 non-null    object\n",
      "dtypes: int32(3), object(3)\n",
      "memory usage: 30.5+ KB\n"
     ]
    }
   ],
   "source": [
    "df.info()"
   ]
  },
  {
   "cell_type": "code",
   "execution_count": 26,
   "metadata": {},
   "outputs": [
    {
     "data": {
      "text/plain": [
       "array(['Hyundai', 'Mahindra', 'Ford', 'Maruti', 'Skoda', 'Audi', 'Toyota',\n",
       "       'Renault', 'Honda', 'Datsun', 'Mitsubishi', 'Tata', 'Volkswagen',\n",
       "       'Chevrolet', 'Mini', 'BMW', 'Nissan', 'Hindustan', 'Fiat', 'Force',\n",
       "       'Mercedes', 'Land', 'URJENT', 'Swift', 'Jaguar', 'Jeep',\n",
       "       'Lamborghini', 'tata', 'Ferrari', 'Volvo', 'Bugati', 'Bugatti',\n",
       "       'Bentley', 'Porsche', 'AstonMartin', 'Maserati', 'Tesla',\n",
       "       'RollRoyce'], dtype=object)"
      ]
     },
     "execution_count": 26,
     "metadata": {},
     "output_type": "execute_result"
    }
   ],
   "source": [
    "df['company'].unique()"
   ]
  },
  {
   "cell_type": "code",
   "execution_count": 27,
   "metadata": {},
   "outputs": [],
   "source": [
    "X=df[['name','company','year','kms_driven','fuel_type']]\n",
    "y=df['Price']"
   ]
  },
  {
   "cell_type": "code",
   "execution_count": 28,
   "metadata": {},
   "outputs": [
    {
     "data": {
      "text/html": [
       "<div>\n",
       "<style scoped>\n",
       "    .dataframe tbody tr th:only-of-type {\n",
       "        vertical-align: middle;\n",
       "    }\n",
       "\n",
       "    .dataframe tbody tr th {\n",
       "        vertical-align: top;\n",
       "    }\n",
       "\n",
       "    .dataframe thead th {\n",
       "        text-align: right;\n",
       "    }\n",
       "</style>\n",
       "<table border=\"1\" class=\"dataframe\">\n",
       "  <thead>\n",
       "    <tr style=\"text-align: right;\">\n",
       "      <th></th>\n",
       "      <th>name</th>\n",
       "      <th>company</th>\n",
       "      <th>year</th>\n",
       "      <th>kms_driven</th>\n",
       "      <th>fuel_type</th>\n",
       "    </tr>\n",
       "  </thead>\n",
       "  <tbody>\n",
       "    <tr>\n",
       "      <th>0</th>\n",
       "      <td>Hyundai Santro Xing</td>\n",
       "      <td>Hyundai</td>\n",
       "      <td>2007</td>\n",
       "      <td>45000</td>\n",
       "      <td>Petrol</td>\n",
       "    </tr>\n",
       "    <tr>\n",
       "      <th>1</th>\n",
       "      <td>Mahindra Jeep CL550</td>\n",
       "      <td>Mahindra</td>\n",
       "      <td>2006</td>\n",
       "      <td>40</td>\n",
       "      <td>Diesel</td>\n",
       "    </tr>\n",
       "    <tr>\n",
       "      <th>2</th>\n",
       "      <td>Hyundai Grand i10</td>\n",
       "      <td>Hyundai</td>\n",
       "      <td>2014</td>\n",
       "      <td>28000</td>\n",
       "      <td>Petrol</td>\n",
       "    </tr>\n",
       "    <tr>\n",
       "      <th>3</th>\n",
       "      <td>Ford EcoSport Titanium</td>\n",
       "      <td>Ford</td>\n",
       "      <td>2014</td>\n",
       "      <td>36000</td>\n",
       "      <td>Diesel</td>\n",
       "    </tr>\n",
       "    <tr>\n",
       "      <th>4</th>\n",
       "      <td>Ford Figo</td>\n",
       "      <td>Ford</td>\n",
       "      <td>2012</td>\n",
       "      <td>41000</td>\n",
       "      <td>Diesel</td>\n",
       "    </tr>\n",
       "    <tr>\n",
       "      <th>...</th>\n",
       "      <td>...</td>\n",
       "      <td>...</td>\n",
       "      <td>...</td>\n",
       "      <td>...</td>\n",
       "      <td>...</td>\n",
       "    </tr>\n",
       "    <tr>\n",
       "      <th>858</th>\n",
       "      <td>Porsche Taycan</td>\n",
       "      <td>Porsche</td>\n",
       "      <td>2018</td>\n",
       "      <td>12000</td>\n",
       "      <td>Diesel</td>\n",
       "    </tr>\n",
       "    <tr>\n",
       "      <th>859</th>\n",
       "      <td>Tata Zest XM</td>\n",
       "      <td>Tata</td>\n",
       "      <td>2018</td>\n",
       "      <td>27000</td>\n",
       "      <td>Diesel</td>\n",
       "    </tr>\n",
       "    <tr>\n",
       "      <th>860</th>\n",
       "      <td>Mahindra Quanto C8</td>\n",
       "      <td>Mahindra</td>\n",
       "      <td>2013</td>\n",
       "      <td>40000</td>\n",
       "      <td>Diesel</td>\n",
       "    </tr>\n",
       "    <tr>\n",
       "      <th>861</th>\n",
       "      <td>Honda Amaze 1.2</td>\n",
       "      <td>Honda</td>\n",
       "      <td>2014</td>\n",
       "      <td>30000</td>\n",
       "      <td>Petrol</td>\n",
       "    </tr>\n",
       "    <tr>\n",
       "      <th>862</th>\n",
       "      <td>Chevrolet Sail 1.2</td>\n",
       "      <td>Chevrolet</td>\n",
       "      <td>2014</td>\n",
       "      <td>30000</td>\n",
       "      <td>Petrol</td>\n",
       "    </tr>\n",
       "  </tbody>\n",
       "</table>\n",
       "<p>863 rows × 5 columns</p>\n",
       "</div>"
      ],
      "text/plain": [
       "                       name    company  year  kms_driven fuel_type\n",
       "0       Hyundai Santro Xing    Hyundai  2007       45000    Petrol\n",
       "1       Mahindra Jeep CL550   Mahindra  2006          40    Diesel\n",
       "2         Hyundai Grand i10    Hyundai  2014       28000    Petrol\n",
       "3    Ford EcoSport Titanium       Ford  2014       36000    Diesel\n",
       "4                 Ford Figo       Ford  2012       41000    Diesel\n",
       "..                      ...        ...   ...         ...       ...\n",
       "858          Porsche Taycan    Porsche  2018       12000    Diesel\n",
       "859            Tata Zest XM       Tata  2018       27000    Diesel\n",
       "860      Mahindra Quanto C8   Mahindra  2013       40000    Diesel\n",
       "861         Honda Amaze 1.2      Honda  2014       30000    Petrol\n",
       "862      Chevrolet Sail 1.2  Chevrolet  2014       30000    Petrol\n",
       "\n",
       "[863 rows x 5 columns]"
      ]
     },
     "execution_count": 28,
     "metadata": {},
     "output_type": "execute_result"
    }
   ],
   "source": [
    "X"
   ]
  },
  {
   "cell_type": "code",
   "execution_count": 29,
   "metadata": {},
   "outputs": [
    {
     "data": {
      "text/plain": [
       "0         80000\n",
       "1        425000\n",
       "2        325000\n",
       "3        575000\n",
       "4        175000\n",
       "         ...   \n",
       "858    28310000\n",
       "859      260000\n",
       "860      390000\n",
       "861      480000\n",
       "862      360000\n",
       "Name: Price, Length: 863, dtype: int32"
      ]
     },
     "execution_count": 29,
     "metadata": {},
     "output_type": "execute_result"
    }
   ],
   "source": [
    "y"
   ]
  },
  {
   "cell_type": "code",
   "execution_count": 30,
   "metadata": {},
   "outputs": [
    {
     "data": {
      "text/plain": [
       "((863, 5), (863,))"
      ]
     },
     "execution_count": 30,
     "metadata": {},
     "output_type": "execute_result"
    }
   ],
   "source": [
    "X.shape, y.shape"
   ]
  },
  {
   "cell_type": "code",
   "execution_count": 31,
   "metadata": {},
   "outputs": [],
   "source": [
    "df.to_csv('Cleaned_Car_data.csv')"
   ]
  },
  {
   "cell_type": "code",
   "execution_count": 32,
   "metadata": {},
   "outputs": [],
   "source": [
    "from sklearn.model_selection import train_test_split\n",
    "x_train , x_test, y_train, y_test = train_test_split(X,y, test_size=0.2)"
   ]
  },
  {
   "cell_type": "code",
   "execution_count": 33,
   "metadata": {},
   "outputs": [],
   "source": [
    "from sklearn.linear_model import LinearRegression\n",
    "from sklearn.preprocessing import OneHotEncoder\n",
    "from sklearn.compose import make_column_transformer\n",
    "from sklearn.pipeline import make_pipeline\n",
    "from sklearn.metrics import r2_score"
   ]
  },
  {
   "cell_type": "code",
   "execution_count": 34,
   "metadata": {},
   "outputs": [
    {
     "data": {
      "text/plain": [
       "OneHotEncoder(handle_unknown='ignore')"
      ]
     },
     "execution_count": 34,
     "metadata": {},
     "output_type": "execute_result"
    }
   ],
   "source": [
    "ohe=OneHotEncoder(handle_unknown = 'ignore')\n",
    "ohe.fit(X[['name','company','fuel_type']])"
   ]
  },
  {
   "cell_type": "code",
   "execution_count": 35,
   "metadata": {},
   "outputs": [],
   "source": [
    "column_trans=make_column_transformer((OneHotEncoder(categories=ohe.categories_),['name','company','fuel_type']), remainder='passthrough')"
   ]
  },
  {
   "cell_type": "code",
   "execution_count": 36,
   "metadata": {},
   "outputs": [],
   "source": [
    "lr=LinearRegression()"
   ]
  },
  {
   "cell_type": "code",
   "execution_count": 37,
   "metadata": {},
   "outputs": [],
   "source": [
    "pipe=make_pipeline(column_trans,lr)"
   ]
  },
  {
   "cell_type": "code",
   "execution_count": 38,
   "metadata": {},
   "outputs": [
    {
     "data": {
      "text/plain": [
       "Pipeline(steps=[('columntransformer',\n",
       "                 ColumnTransformer(remainder='passthrough',\n",
       "                                   transformers=[('onehotencoder',\n",
       "                                                  OneHotEncoder(categories=[array(['Aston Martin DBX', 'Audi A3 Cabriolet', 'Audi A4 1.8',\n",
       "       'Audi A4 2.0', 'Audi A6 2.0', 'Audi A8', 'Audi Q3 2.0',\n",
       "       'Audi Q5 2.0', 'Audi Q7', 'BMW 3 Series', 'BMW 5 Series',\n",
       "       'BMW 7 Series', 'BMW X1', 'BMW X1 sDrive20d', 'BMW X1 xDrive20d',\n",
       "       'Bentley flyin...\n",
       "       'Hindustan', 'Honda', 'Hyundai', 'Jaguar', 'Jeep', 'Lamborghini',\n",
       "       'Land', 'Mahindra', 'Maruti', 'Maserati', 'Mercedes', 'Mini',\n",
       "       'Mitsubishi', 'Nissan', 'Porsche', 'Renault', 'RollRoyce', 'Skoda',\n",
       "       'Swift', 'Tata', 'Tesla', 'Toyota', 'URJENT', 'Volkswagen',\n",
       "       'Volvo', 'tata'], dtype=object),\n",
       "                                                                            array(['Diesel', 'LPG', 'Petrol'], dtype=object)]),\n",
       "                                                  ['name', 'company',\n",
       "                                                   'fuel_type'])])),\n",
       "                ('linearregression', LinearRegression())])"
      ]
     },
     "execution_count": 38,
     "metadata": {},
     "output_type": "execute_result"
    }
   ],
   "source": [
    "pipe.fit(x_train,y_train)"
   ]
  },
  {
   "cell_type": "code",
   "execution_count": 39,
   "metadata": {},
   "outputs": [],
   "source": [
    "y_pred=pipe.predict(x_test)"
   ]
  },
  {
   "cell_type": "code",
   "execution_count": 40,
   "metadata": {},
   "outputs": [
    {
     "data": {
      "text/plain": [
       "0.7226209637760177"
      ]
     },
     "execution_count": 40,
     "metadata": {},
     "output_type": "execute_result"
    }
   ],
   "source": [
    "r2_score(y_test,y_pred)"
   ]
  },
  {
   "cell_type": "code",
   "execution_count": 41,
   "metadata": {},
   "outputs": [],
   "source": [
    "scores=[]\n",
    "for i in range(1000):\n",
    "    x_train,x_test,y_train,y_test=train_test_split(X,y,test_size=0.1,random_state=i)\n",
    "    lr=LinearRegression()\n",
    "    pipe=make_pipeline(column_trans,lr)\n",
    "    pipe.fit(x_train,y_train)\n",
    "    y_pred=pipe.predict(x_test)\n",
    "    scores.append(r2_score(y_test,y_pred))"
   ]
  },
  {
   "cell_type": "code",
   "execution_count": 42,
   "metadata": {},
   "outputs": [
    {
     "data": {
      "text/plain": [
       "284"
      ]
     },
     "execution_count": 42,
     "metadata": {},
     "output_type": "execute_result"
    }
   ],
   "source": [
    "np.argmax(scores)"
   ]
  },
  {
   "cell_type": "code",
   "execution_count": 43,
   "metadata": {},
   "outputs": [
    {
     "data": {
      "text/plain": [
       "0.9874109213471773"
      ]
     },
     "execution_count": 43,
     "metadata": {},
     "output_type": "execute_result"
    }
   ],
   "source": [
    "scores[np.argmax(scores)]"
   ]
  },
  {
   "cell_type": "code",
   "execution_count": 44,
   "metadata": {},
   "outputs": [
    {
     "data": {
      "text/plain": [
       "array([463295.32581437])"
      ]
     },
     "execution_count": 44,
     "metadata": {},
     "output_type": "execute_result"
    }
   ],
   "source": [
    "pipe.predict(pd.DataFrame(columns=x_test.columns,data=np.array(['Maruti Suzuki Swift','Maruti',2019,100,'Petrol']).reshape(1,5)))"
   ]
  },
  {
   "cell_type": "code",
   "execution_count": 45,
   "metadata": {},
   "outputs": [
    {
     "data": {
      "text/plain": [
       "0.9874109213471773"
      ]
     },
     "execution_count": 45,
     "metadata": {},
     "output_type": "execute_result"
    }
   ],
   "source": [
    "x_train,x_test,y_train,y_test=train_test_split(X,y,test_size=0.1,random_state=np.argmax(scores))\n",
    "lr=LinearRegression()\n",
    "pipe=make_pipeline(column_trans,lr)\n",
    "pipe.fit(x_train,y_train)\n",
    "y_pred=pipe.predict(x_test)\n",
    "r2_score(y_test,y_pred)"
   ]
  },
  {
   "cell_type": "code",
   "execution_count": 46,
   "metadata": {},
   "outputs": [],
   "source": [
    "import pickle"
   ]
  },
  {
   "cell_type": "code",
   "execution_count": 47,
   "metadata": {},
   "outputs": [],
   "source": [
    "pickle.dump(pipe,open('LinearRegressionModel.pkl','wb'))"
   ]
  },
  {
   "cell_type": "code",
   "execution_count": 48,
   "metadata": {},
   "outputs": [
    {
     "data": {
      "text/plain": [
       "array(['Aston Martin DBX', 'Audi A3 Cabriolet', 'Audi A4 1.8',\n",
       "       'Audi A4 2.0', 'Audi A6 2.0', 'Audi A8', 'Audi Q3 2.0',\n",
       "       'Audi Q5 2.0', 'Audi Q7', 'BMW 3 Series', 'BMW 5 Series',\n",
       "       'BMW 7 Series', 'BMW X1', 'BMW X1 sDrive20d', 'BMW X1 xDrive20d',\n",
       "       'Bentley flying spur', 'Bugati Divo', 'Bugatti Veyron',\n",
       "       'Chevrolet Beat', 'Chevrolet Beat Diesel', 'Chevrolet Beat LS',\n",
       "       'Chevrolet Beat LT', 'Chevrolet Beat PS', 'Chevrolet Cruze LTZ',\n",
       "       'Chevrolet Enjoy', 'Chevrolet Enjoy 1.4', 'Chevrolet Sail 1.2',\n",
       "       'Chevrolet Sail UVA', 'Chevrolet Spark', 'Chevrolet Spark 1.0',\n",
       "       'Chevrolet Spark LS', 'Chevrolet Spark LT', 'Chevrolet Tavera LS',\n",
       "       'Chevrolet Tavera Neo', 'Datsun GO T', 'Datsun Go Plus',\n",
       "       'Datsun Redi GO', 'Ferrari 812', 'Ferrari Portofinio',\n",
       "       'Ferrari Roma', 'Ferrari SF90', 'Fiat Linea Emotion',\n",
       "       'Fiat Petra ELX', 'Fiat Punto Emotion', 'Force Motors Force',\n",
       "       'Force Motors One', 'Ford EcoSport', 'Ford EcoSport Ambiente',\n",
       "       'Ford EcoSport Titanium', 'Ford EcoSport Trend',\n",
       "       'Ford Endeavor 4x4', 'Ford Fiesta', 'Ford Fiesta SXi', 'Ford Figo',\n",
       "       'Ford Figo Diesel', 'Ford Figo Duratorq', 'Ford Figo Petrol',\n",
       "       'Ford Fusion 1.4', 'Ford Ikon 1.3', 'Ford Ikon 1.6',\n",
       "       'Hindustan Motors Ambassador', 'Honda Accord', 'Honda Amaze',\n",
       "       'Honda Amaze 1.2', 'Honda Amaze 1.5', 'Honda Brio', 'Honda Brio V',\n",
       "       'Honda Brio VX', 'Honda City', 'Honda City 1.5', 'Honda City SV',\n",
       "       'Honda City VX', 'Honda City ZX', 'Honda Jazz S', 'Honda Jazz VX',\n",
       "       'Honda Mobilio', 'Honda Mobilio S', 'Honda WR V', 'Hyun',\n",
       "       'Hyundai Accent', 'Hyundai Accent Executive', 'Hyundai Accent GLE',\n",
       "       'Hyundai Accent GLX', 'Hyundai Creta', 'Hyundai Creta 1.6',\n",
       "       'Hyundai Elantra 1.8', 'Hyundai Elantra SX', 'Hyundai Elite i20',\n",
       "       'Hyundai Eon', 'Hyundai Eon D', 'Hyundai Eon Era',\n",
       "       'Hyundai Eon Magna', 'Hyundai Eon Sportz', 'Hyundai Fluidic Verna',\n",
       "       'Hyundai Getz', 'Hyundai Getz GLE', 'Hyundai Getz Prime',\n",
       "       'Hyundai Grand i10', 'Hyundai Santro', 'Hyundai Santro AE',\n",
       "       'Hyundai Santro Xing', 'Hyundai Sonata Transform', 'Hyundai Venue',\n",
       "       'Hyundai Verna', 'Hyundai Verna 1.4', 'Hyundai Verna 1.6',\n",
       "       'Hyundai Verna Fluidic', 'Hyundai Verna Transform',\n",
       "       'Hyundai Verna VGT', 'Hyundai Xcent Base', 'Hyundai Xcent S',\n",
       "       'Hyundai Xcent SX', 'Hyundai i10', 'Hyundai i10 Era',\n",
       "       'Hyundai i10 Magna', 'Hyundai i10 Sportz', 'Hyundai i20',\n",
       "       'Hyundai i20 Active', 'Hyundai i20 Asta', 'Hyundai i20 Magna',\n",
       "       'Hyundai i20 Select', 'Hyundai i20 Sportz', 'Jaguar XE',\n",
       "       'Jaguar XE XE', 'Jaguar XF 2.2', 'Jeep Wrangler Unlimited',\n",
       "       'Lamborghini Hurricane', 'Lamborghini Urus',\n",
       "       'Land Rover Freelander', 'Mahindra Bolero DI',\n",
       "       'Mahindra Bolero Power', 'Mahindra Bolero SLE',\n",
       "       'Mahindra Jeep CL550', 'Mahindra Jeep MM', 'Mahindra KUV100',\n",
       "       'Mahindra KUV100 K8', 'Mahindra Logan', 'Mahindra Logan Diesel',\n",
       "       'Mahindra Quanto C4', 'Mahindra Quanto C8', 'Mahindra Scorpio',\n",
       "       'Mahindra Scorpio 2.6', 'Mahindra Scorpio LX',\n",
       "       'Mahindra Scorpio S10', 'Mahindra Scorpio S4',\n",
       "       'Mahindra Scorpio SLE', 'Mahindra Scorpio SLX',\n",
       "       'Mahindra Scorpio VLX', 'Mahindra Scorpio Vlx',\n",
       "       'Mahindra Scorpio W', 'Mahindra TUV300 T4', 'Mahindra TUV300 T8',\n",
       "       'Mahindra Thar CRDe', 'Mahindra XUV500', 'Mahindra XUV500 W10',\n",
       "       'Mahindra XUV500 W6', 'Mahindra XUV500 W8', 'Mahindra Xylo D2',\n",
       "       'Mahindra Xylo E4', 'Mahindra Xylo E8', 'Mahindra xyl',\n",
       "       'Maruti Suzuki 800', 'Maruti Suzuki A', 'Maruti Suzuki Alto',\n",
       "       'Maruti Suzuki Baleno', 'Maruti Suzuki Celerio',\n",
       "       'Maruti Suzuki Ciaz', 'Maruti Suzuki Dzire', 'Maruti Suzuki Eeco',\n",
       "       'Maruti Suzuki Ertiga', 'Maruti Suzuki Esteem',\n",
       "       'Maruti Suzuki Estilo', 'Maruti Suzuki Maruti',\n",
       "       'Maruti Suzuki Omni', 'Maruti Suzuki Ritz', 'Maruti Suzuki S',\n",
       "       'Maruti Suzuki SX4', 'Maruti Suzuki Stingray',\n",
       "       'Maruti Suzuki Swift', 'Maruti Suzuki Versa',\n",
       "       'Maruti Suzuki Vitara', 'Maruti Suzuki Wagon', 'Maruti Suzuki Zen',\n",
       "       'Maserati MC 20', 'Mercedes Benz A', 'Mercedes Benz B',\n",
       "       'Mercedes Benz C', 'Mercedes Benz GLA', 'Mini Cooper S',\n",
       "       'Mitsubishi Lancer 1.8', 'Mitsubishi Pajero Sport',\n",
       "       'Nissan Micra XL', 'Nissan Micra XV', 'Nissan Sunny',\n",
       "       'Nissan Sunny XL', 'Nissan Terrano XL', 'Nissan X Trail',\n",
       "       'Porsche 911', 'Porsche Taycan', 'Renault Duster',\n",
       "       'Renault Duster 110', 'Renault Duster 110PS', 'Renault Duster 85',\n",
       "       'Renault Duster 85PS', 'Renault Duster RxL', 'Renault Kwid',\n",
       "       'Renault Kwid 1.0', 'Renault Kwid RXT', 'Renault Lodgy',\n",
       "       'Renault Lodgy 85', 'Renault Scala RxL', 'Rolls Royce Dawn',\n",
       "       'Rolls Royce Ghost', 'Rolls Royce Phantom', 'Rolls Royce wraith',\n",
       "       'Skoda Fabia', 'Skoda Fabia 1.2L', 'Skoda Fabia Classic',\n",
       "       'Skoda Laura', 'Skoda Octavia Classic', 'Skoda Rapid Elegance',\n",
       "       'Skoda Superb 1.8', 'Skoda Yeti Ambition', 'Swift Dzire Tour',\n",
       "       'Tata Aria Pleasure', 'Tata Bolt XM', 'Tata Indica',\n",
       "       'Tata Indica V2', 'Tata Indica eV2', 'Tata Indigo CS',\n",
       "       'Tata Indigo LS', 'Tata Indigo LX', 'Tata Indigo Marina',\n",
       "       'Tata Indigo eCS', 'Tata Manza', 'Tata Manza Aqua',\n",
       "       'Tata Manza Aura', 'Tata Manza ELAN', 'Tata Nano', 'Tata Nano Cx',\n",
       "       'Tata Nano GenX', 'Tata Nano LX', 'Tata Nano Lx', 'Tata Nexon',\n",
       "       'Tata Sumo Gold', 'Tata Sumo Grande', 'Tata Sumo Victa',\n",
       "       'Tata Tiago Revotorq', 'Tata Tiago Revotron',\n",
       "       'Tata Tigor Revotron', 'Tata Venture EX', 'Tata Vista Quadrajet',\n",
       "       'Tata Zest 90', 'Tata Zest Quadrajet', 'Tata Zest XE',\n",
       "       'Tata Zest XM', 'Tata indigo', 'Tata zest x', 'Tesla Cybertruck',\n",
       "       'Tesla Model X', 'Toyota Corolla', 'Toyota Corolla Altis',\n",
       "       'Toyota Corolla H2', 'Toyota Etios', 'Toyota Etios G',\n",
       "       'Toyota Etios GD', 'Toyota Etios Liva', 'Toyota Fortuner',\n",
       "       'Toyota Fortuner 3.0', 'Toyota Innova 2.0', 'Toyota Innova 2.5',\n",
       "       'Toyota Qualis', 'URJE', 'Volkswagen Jetta Comfortline',\n",
       "       'Volkswagen Jetta Highline', 'Volkswagen Passat Diesel',\n",
       "       'Volkswagen Polo', 'Volkswagen Polo Comfortline',\n",
       "       'Volkswagen Polo Highline', 'Volkswagen Polo Highline1.2L',\n",
       "       'Volkswagen Polo Trendline', 'Volkswagen Vento Comfortline',\n",
       "       'Volkswagen Vento Highline', 'Volkswagen Vento Konekt',\n",
       "       'Volvo S80 Summum', 'tata Indica'], dtype=object)"
      ]
     },
     "execution_count": 48,
     "metadata": {},
     "output_type": "execute_result"
    }
   ],
   "source": [
    "pipe.steps[0][1].transformers[0][1].categories[0]"
   ]
  },
  {
   "cell_type": "code",
   "execution_count": null,
   "metadata": {},
   "outputs": [],
   "source": []
  },
  {
   "cell_type": "code",
   "execution_count": null,
   "metadata": {},
   "outputs": [],
   "source": []
  }
 ],
 "metadata": {
  "kernelspec": {
   "display_name": "Python 3.10.0 64-bit",
   "language": "python",
   "name": "python3"
  },
  "language_info": {
   "codemirror_mode": {
    "name": "ipython",
    "version": 3
   },
   "file_extension": ".py",
   "mimetype": "text/x-python",
   "name": "python",
   "nbconvert_exporter": "python",
   "pygments_lexer": "ipython3",
   "version": "3.10.0"
  },
  "orig_nbformat": 4,
  "vscode": {
   "interpreter": {
    "hash": "e8899eb02dfbc033aab5733bdae1bd213fa031d40331094008e8673d99ebab63"
   }
  }
 },
 "nbformat": 4,
 "nbformat_minor": 2
}
